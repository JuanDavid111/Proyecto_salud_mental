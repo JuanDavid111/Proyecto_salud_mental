{
 "cells": [
  {
   "cell_type": "code",
   "execution_count": null,
   "metadata": {},
   "outputs": [],
   "source": [
    "import pandas as pd\n",
    "\n",
    "'''Ruta de el data set'''\n",
    "file_data_path = './data/mental_health_dataset.csv'\n",
    "data_health = pd.read_csv(file_data_path,sep=',')\n",
    "\n",
    "data_health.head()"
   ]
  }
 ],
 "metadata": {
  "language_info": {
   "name": "python"
  }
 },
 "nbformat": 4,
 "nbformat_minor": 2
}
